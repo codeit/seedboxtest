{
 "cells": [
  {
   "cell_type": "markdown",
   "metadata": {},
   "source": [
    "# Seedbox Data Science Application Test \n",
    "## Javier Bosch\n"
   ]
  },
  {
   "cell_type": "code",
   "execution_count": 288,
   "metadata": {
    "collapsed": true
   },
   "outputs": [],
   "source": [
    "# import relevant libraries\n",
    "import numpy as np\n",
    "import pandas as pd\n",
    "import sklearn as sk\n",
    "from bokeh.plotting import figure\n",
    "from IPython.display import display, HTML\n",
    "import os\n",
    "%matplotlib inline\n",
    "import matplotlib.pyplot as plt\n",
    "from scipy import stats"
   ]
  },
  {
   "cell_type": "markdown",
   "metadata": {},
   "source": [
    "## Objective\n",
    "\n",
    "Measure the effect of Forcing Users to phone-in to Cancel Service. \n",
    "\n",
    "## Assumptions\n",
    "\n",
    "1. Each sample can click the cancel page numerous times to Cancel. We then observe whether we get a REBILL(1) or NOT(-1). Applies to Control as well.\n",
    "2. We count the number of Rebills or Chargebacks per sample to determine the distribution of REBILLS. In this case, the distribution of REBILLS includes non-rebills as a negative number. e.g. 5 chargebacks/refunds is equivalent to -5 Rebills. \n",
    "3. We assume each transaction is independent of the other and each sample (individual) is independent of each other. \n",
    "4. I assume the intention is to observe each users repeated actions in each group. In this case, we are observing the number of rebills per sample and then aggregating this information."
   ]
  },
  {
   "cell_type": "markdown",
   "metadata": {},
   "source": [
    "## Read in Data\n",
    "\n",
    "1. Combine two CSVs.\n",
    "2. Set binary variables for transaction type REBILL = 1, CHARGEBACKS,REFUND=-1 \n",
    "3. 1 and -1 will allow for easier aggregation of the transaction types and combine the rebills (positive) and nonrebills(negative) into one distribution of # of rebills in the experiment. \n",
    "3. When aggregating, those samples that have a rebill and non-rebill will cancel out and the # of rebills may sum to 0, netting out the effect. This should not affect the results because only 8 samples have both rebills and chargebacks. "
   ]
  },
  {
   "cell_type": "code",
   "execution_count": 95,
   "metadata": {},
   "outputs": [
    {
     "data": {
      "text/html": [
       "<table border=\"1\" class=\"dataframe\">\n",
       "  <thead>\n",
       "    <tr style=\"text-align: right;\">\n",
       "      <th></th>\n",
       "      <th>transaction_id</th>\n",
       "      <th>sample_id</th>\n",
       "      <th>transaction_type</th>\n",
       "      <th>transaction_amount</th>\n",
       "      <th>test_group</th>\n",
       "      <th>types</th>\n",
       "    </tr>\n",
       "  </thead>\n",
       "  <tbody>\n",
       "    <tr>\n",
       "      <th>0</th>\n",
       "      <td>52346326</td>\n",
       "      <td>11</td>\n",
       "      <td>REBILL</td>\n",
       "      <td>24.95</td>\n",
       "      <td>1</td>\n",
       "      <td>1</td>\n",
       "    </tr>\n",
       "    <tr>\n",
       "      <th>1</th>\n",
       "      <td>52346327</td>\n",
       "      <td>11</td>\n",
       "      <td>REBILL</td>\n",
       "      <td>24.95</td>\n",
       "      <td>1</td>\n",
       "      <td>1</td>\n",
       "    </tr>\n",
       "    <tr>\n",
       "      <th>2</th>\n",
       "      <td>52346328</td>\n",
       "      <td>32</td>\n",
       "      <td>REBILL</td>\n",
       "      <td>29.95</td>\n",
       "      <td>1</td>\n",
       "      <td>1</td>\n",
       "    </tr>\n",
       "    <tr>\n",
       "      <th>3</th>\n",
       "      <td>52346329</td>\n",
       "      <td>32</td>\n",
       "      <td>REBILL</td>\n",
       "      <td>29.95</td>\n",
       "      <td>1</td>\n",
       "      <td>1</td>\n",
       "    </tr>\n",
       "    <tr>\n",
       "      <th>4</th>\n",
       "      <td>52346330</td>\n",
       "      <td>32</td>\n",
       "      <td>REBILL</td>\n",
       "      <td>29.95</td>\n",
       "      <td>1</td>\n",
       "      <td>1</td>\n",
       "    </tr>\n",
       "  </tbody>\n",
       "</table>"
      ],
      "text/plain": [
       "<IPython.core.display.HTML object>"
      ]
     },
     "execution_count": 95,
     "metadata": {},
     "output_type": "execute_result"
    }
   ],
   "source": [
    "# Read in data and combine dataframes\n",
    "samples_df = pd.read_csv('datasciencetest/testSamples.csv', sep = ',', header =0)\n",
    "trans_df = pd.read_csv('datasciencetest/transData.csv', sep=',', header = 0)\n",
    "df = pd.merge(trans_df, samples_df, on='sample_id')\n",
    "df['types']=df['transaction_type'].apply(lambda x : 1 if x =='REBILL' else -1)\n",
    "HTML(df.head().to_html())\n",
    "# HTML(samples_df.head().to_html())"
   ]
  },
  {
   "cell_type": "code",
   "execution_count": 96,
   "metadata": {},
   "outputs": [
    {
     "name": "stdout",
     "output_type": "stream",
     "text": [
      "There are 4050 control transactions. \n",
      "There are 3380 test transactions.\n",
      "There are 92.74% rebills in the control and 94.82% rebills in the test group.\n",
      "There are 7.26% non-rebills in the control and 5.18% non-rebills in the test group.\n",
      "There are 44886 persons in control group and 14835 persons in the test group\n"
     ]
    }
   ],
   "source": [
    "# Separate Groups\n",
    "control_df= df[df['test_group']==0]\n",
    "test_df = df[df['test_group']==1]\n",
    "\n",
    "# some summary statistics to get an idea for the data. \n",
    "tot_rebills_control = control_df[control_df['types']==1].types.count()\n",
    "tot_control = control_df.types.count()\n",
    "tot_rebills_test = test_df[test_df['types']==1].types.count()\n",
    "tot_test = test_df.types.count()\n",
    "total_ids = samples_df.sample_id.count()\n",
    "total_test_ids=samples_df.test_group.sum()\n",
    "total_control_ids = total_ids - total_test_ids\n",
    "print('There are {0} control transactions. \\nThere are {1} test transactions.'.\n",
    "      format(tot_control,tot_test))\n",
    "perc_rebill_control, perc_rebill_test = tot_rebills_control/tot_control*100, tot_rebills_test/tot_test*100\n",
    "print('There are {0:.2f}% rebills in the control and {1:.2f}% rebills in the test group.'.format(perc_rebill_control,perc_rebill_test))\n",
    "print('There are {0:.2f}% non-rebills in the control and {1:.2f}% non-rebills in the test group.'.format(100-perc_rebill_control,100-perc_rebill_test))\n",
    "print('There are {} persons in control group and {} persons in the test group'.format(total_control_ids,total_test_ids))"
   ]
  },
  {
   "cell_type": "markdown",
   "metadata": {},
   "source": [
    "These statistics simply tell us that there are more rebills than nonrebills (chargebacks and refunds). \n",
    "\n",
    "It also appears that given there are only 4050 transactions from the control group with more persons in the control group than the test group, there will be far less recurring transactions per person or more likely for each person to have only one transaction. \n",
    "\n",
    "The data in the control and test groups do not appear to represent each other in similar ways given that there are less people in the test with more possible transactions per person. \n"
   ]
  },
  {
   "cell_type": "markdown",
   "metadata": {},
   "source": [
    "## Distribution of Rebills for the Control and Test Groups \n",
    "\n",
    "note: Rebills less than 1 represent chargebacks/refunds"
   ]
  },
  {
   "cell_type": "code",
   "execution_count": 269,
   "metadata": {},
   "outputs": [
    {
     "data": {
      "text/plain": [
       "<matplotlib.axes._subplots.AxesSubplot at 0x17f997437b8>"
      ]
     },
     "execution_count": 269,
     "metadata": {},
     "output_type": "execute_result"
    },
    {
     "data": {
      "image/png": "[encoded data removed]",
      "text/plain": [
       "<matplotlib.figure.Figure at 0x17f9acb1fd0>"
      ]
     },
     "metadata": {},
     "output_type": "display_data"
    }
   ],
   "source": [
    "test_df.groupby('sample_id').sum().transaction_amount.hist()"
   ]
  },
  {
   "cell_type": "code",
   "execution_count": 289,
   "metadata": {},
   "outputs": [
    {
     "data": {
      "image/png": "[encoded data removed]",
      "text/plain": [
       "<matplotlib.figure.Figure at 0x17f9abdc320>"
      ]
     },
     "metadata": {},
     "output_type": "display_data"
    },
    {
     "data": {
      "image/png": "[encoded data removed]",
      "text/plain": [
       "<matplotlib.figure.Figure at 0x17f960ffef0>"
      ]
     },
     "metadata": {},
     "output_type": "display_data"
    }
   ],
   "source": [
    "bins_control = control_df.groupby(by ='sample_id').sum()['types'].value_counts().count()\n",
    "bins_test = test_df.groupby(by ='sample_id').sum()['types'].value_counts().count()\n",
    "norm = False\n",
    "\n",
    "# Test Group histogram for # Rebills \n",
    "hist_rebills = test_df.groupby(by ='sample_id').sum()['types']\n",
    "hist_rebills.hist(bins=bins_test,normed=norm)\n",
    "plt.title('Approximate Distribution of Rebills for Test Group as a Function of Rebills')\n",
    "plt.xlabel('Rebills')\n",
    "plt.ylabel('Probability')\n",
    "plt.show() \n",
    "\n",
    "# Control Group histogram for # of Rebills\n",
    "hist_rebills= control_df.groupby(by ='sample_id').sum()['types']\n",
    "# hist_control_rebills['types'].max()*2\n",
    "hist_rebills.hist(bins=bins_control, normed = norm)\n",
    "plt.title('Approximate Distribution of Rebills for Control Group as a Function of Rebills')\n",
    "plt.xlabel('Rebills')\n",
    "plt.ylabel('Probability') \n",
    "plt.show()\n",
    "\n",
    "test_EV_rebills = round(test_df.groupby(by ='sample_id').sum()['types'].mean())\n",
    "test_var_rebills = test_df.groupby(by ='sample_id').sum()['types'].var(ddof =1)\n",
    "control_EV_rebills = round(control_df.groupby(by ='sample_id').sum()['types'].mean())\n",
    "control_var_rebills = test_df.groupby(by ='sample_id').sum()['types'].var(ddof=1)"
   ]
  },
  {
   "cell_type": "code",
   "execution_count": 203,
   "metadata": {},
   "outputs": [
    {
     "data": {
      "image/png": "[encoded data removed]",
      "text/plain": [
       "<matplotlib.figure.Figure at 0x17f96221668>"
      ]
     },
     "metadata": {},
     "output_type": "display_data"
    },
    {
     "data": {
      "text/plain": [
       "<matplotlib.text.Text at 0x17f96389c50>"
      ]
     },
     "execution_count": 203,
     "metadata": {},
     "output_type": "execute_result"
    },
    {
     "data": {
      "image/png": "[encoded data removed]",
      "text/plain": [
       "<matplotlib.figure.Figure at 0x17f9633d3c8>"
      ]
     },
     "metadata": {},
     "output_type": "display_data"
    }
   ],
   "source": [
    "## Histogram and Emprical CDF of the test and control group\n",
    "test_prob_hist, test_bin_values = np.histogram(test_df.groupby('sample_id').sum()['types'], bins = test_df.groupby(by ='sample_id').sum()['types'].value_counts().count(), normed = True)\n",
    "\n",
    "control_prob_hist, control_bin_values = np.histogram(control_df.groupby('sample_id').sum()['types'], bins = control_df.groupby(by ='sample_id').sum()['types'].value_counts().count()+1, normed = True)\n",
    "\n",
    "test_cdf = np.cumsum(test_prob_hist)\n",
    "test_cdf = pd.DataFrame(data = [test_bin_values[0:len(test_bin_values)-1].T,test_cdf.T]).T\n",
    "test_cdf.columns=['x','F']\n",
    "\n",
    "control_cdf = np.cumsum(control_prob_hist)\n",
    "control_cdf = pd.DataFrame(data = [control_bin_values[0:len(control_bin_values)-1].T,control_cdf.T]).T\n",
    "control_cdf.columns=['x','F']\n",
    "\n",
    "#Checks\n",
    "# print(test_cdf)\n",
    "# print(control_cdf)\n",
    "# print(test_bin_values)\n",
    "# print(test_prob_hist)\n",
    "\n",
    "plt.bar(test_cdf['x'],test_cdf['F'])\n",
    "plt.title('Emprical CDF of Test Group')\n",
    "plt.show()\n",
    "plt.bar(control_cdf['x'], control_cdf['F'])\n",
    "plt.title('Empirical CDF of Control Group')"
   ]
  },
  {
   "cell_type": "markdown",
   "metadata": {},
   "source": [
    "## 1. The Approximate Distribution of the Control and Test Group\n",
    "\n",
    "From the observation of the aggregated data, it appears that both groups follow a normal distribution centered primarily around 1 Rebill on average. The test group appears to be tighter and skewed to the right can could probably be fit by a lognormal distribution. \n",
    "\n",
    "We will try to run some tests to determine if the means and variances is different. \n",
    "\n",
    "From visual observation it appears that Forcing users to callin, on average the likelihood of a refund or chargeback is lower than using the webform. \n",
    "\n",
    "Also, there appears to be more frequent Rebills of 1 to 2 rebills in the test group but the control group distribution is fatter to the right which indicates a higher chance of more frequent rebills greater than 1 or 2.  \n",
    "\n"
   ]
  },
  {
   "cell_type": "markdown",
   "metadata": {},
   "source": [
    "## 2. The Likelihood of getting at least 1 Rebill per person is:  \n",
    "\n",
    "$$ P(X >= 1)  = 1 - P(X < 1) $$"
   ]
  },
  {
   "cell_type": "code",
   "execution_count": 221,
   "metadata": {},
   "outputs": [
    {
     "name": "stdout",
     "output_type": "stream",
     "text": [
      "The likelihood of getting at least 1 Rebill in the test group is: 94.80%\n",
      "The likelihood of getting at least 1 Rebill in the control group is: 87.12%\n",
      "From the empirical distribution, it appears that it is more likely to get at least 1 rebill in the test = phone-in group\n"
     ]
    }
   ],
   "source": [
    "# Prob of at least 1 Rebill. \n",
    "\n",
    "x_lessthan_1= test_cdf[test_cdf['x']==0]['F']\n",
    "prob = 1 - x_lessthan_1.values[0]\n",
    "print('The likelihood of getting at least 1 Rebill in the test group is: {:.2f}%'.format(prob*100)) \n",
    "\n",
    "x_lessthan_1= control_cdf[control_cdf['x']==0]['F']\n",
    "prob = 1 - x_lessthan_1.values[0]\n",
    "print('The likelihood of getting at least 1 Rebill in the control group is: {:.2f}%'.format(prob*100)) \n",
    "print('From the empirical distribution, it appears that it is more likely to get at least 1 rebill in the test = phone-in group')"
   ]
  },
  {
   "cell_type": "markdown",
   "metadata": {},
   "source": [
    "## 2. Expected Transaction Amount per Person. "
   ]
  },
  {
   "cell_type": "code",
   "execution_count": 241,
   "metadata": {},
   "outputs": [],
   "source": [
    "bins_test_transac = test_df.groupby('sample_id').sum()['transaction_amount'].value_counts().count()\n",
    "bins_control_transac = control_df.groupby('sample_id').sum()['transaction_amount'].value_counts().count()"
   ]
  },
  {
   "cell_type": "code",
   "execution_count": 276,
   "metadata": {},
   "outputs": [
    {
     "data": {
      "image/png": "[encoded data removed]",
      "text/plain": [
       "<matplotlib.figure.Figure at 0x17f9ad5b8d0>"
      ]
     },
     "metadata": {},
     "output_type": "display_data"
    },
    {
     "data": {
      "image/png": "[encoded data removed]",
      "text/plain": [
       "<matplotlib.figure.Figure at 0x17f9ac64978>"
      ]
     },
     "metadata": {},
     "output_type": "display_data"
    },
    {
     "name": "stdout",
     "output_type": "stream",
     "text": [
      "The Expected Value of the transaction amount for the Test Group is:58.36911314984639\n",
      "The Expected Value of the transaction amount for the Control Group is:83.26126042632048\n",
      "It appears that the control group will generate more revenue on average per person\n"
     ]
    }
   ],
   "source": [
    "transac_test_df = test_df.groupby('sample_id').sum().transaction_amount\n",
    "transac_control_df = control_df.groupby('sample_id').sum().transaction_amount\n",
    "transac_test_df.hist()\n",
    "plt.title('Distribution of transaction amounts per person in Test Group')\n",
    "plt.show()\n",
    "transac_control_df.hist()\n",
    "plt.title('Distribution of transaction amounts per person in Control Group')\n",
    "plt.show()\n",
    "\n",
    "print('The Expected Value of the transaction amount for the Test Group is:{}'.format(transac_test_df.mean()))\n",
    "print('The Expected Value of the transaction amount for the Control Group is:{}'.format(transac_control_df.mean()))\n",
    "print('It appears that the control group will generate more revenue on average per person')\n"
   ]
  },
  {
   "cell_type": "markdown",
   "metadata": {},
   "source": [
    "## Those were the persons who have rebills and nonrebills (Chargebacks or Refunds.) Chargeback rates\n",
    "\n",
    "This will cancel out the effect when counting number of rebills, but this should not affect the intention of the experiment and the results as we are aggergating the number of rebills. "
   ]
  },
  {
   "cell_type": "code",
   "execution_count": 278,
   "metadata": {},
   "outputs": [
    {
     "data": {
      "text/html": [
       "<div>\n",
       "<style>\n",
       "    .dataframe thead tr:only-child th {\n",
       "        text-align: right;\n",
       "    }\n",
       "\n",
       "    .dataframe thead th {\n",
       "        text-align: left;\n",
       "    }\n",
       "\n",
       "    .dataframe tbody tr th {\n",
       "        vertical-align: top;\n",
       "    }\n",
       "</style>\n",
       "<table border=\"1\" class=\"dataframe\">\n",
       "  <thead>\n",
       "    <tr style=\"text-align: right;\">\n",
       "      <th></th>\n",
       "      <th>transaction_id</th>\n",
       "      <th>sample_id</th>\n",
       "      <th>transaction_type</th>\n",
       "      <th>transaction_amount</th>\n",
       "      <th>test_group</th>\n",
       "      <th>types</th>\n",
       "    </tr>\n",
       "  </thead>\n",
       "  <tbody>\n",
       "    <tr>\n",
       "      <th>869</th>\n",
       "      <td>52347195</td>\n",
       "      <td>7338</td>\n",
       "      <td>REBILL</td>\n",
       "      <td>29.95</td>\n",
       "      <td>1</td>\n",
       "      <td>1</td>\n",
       "    </tr>\n",
       "    <tr>\n",
       "      <th>870</th>\n",
       "      <td>52347196</td>\n",
       "      <td>7338</td>\n",
       "      <td>CHARGEBACK</td>\n",
       "      <td>-29.95</td>\n",
       "      <td>1</td>\n",
       "      <td>-1</td>\n",
       "    </tr>\n",
       "    <tr>\n",
       "      <th>1867</th>\n",
       "      <td>52348193</td>\n",
       "      <td>15909</td>\n",
       "      <td>REBILL</td>\n",
       "      <td>24.95</td>\n",
       "      <td>1</td>\n",
       "      <td>1</td>\n",
       "    </tr>\n",
       "    <tr>\n",
       "      <th>1868</th>\n",
       "      <td>52348194</td>\n",
       "      <td>15909</td>\n",
       "      <td>CHARGEBACK</td>\n",
       "      <td>-24.95</td>\n",
       "      <td>1</td>\n",
       "      <td>-1</td>\n",
       "    </tr>\n",
       "    <tr>\n",
       "      <th>2024</th>\n",
       "      <td>52348350</td>\n",
       "      <td>17305</td>\n",
       "      <td>REBILL</td>\n",
       "      <td>24.95</td>\n",
       "      <td>1</td>\n",
       "      <td>1</td>\n",
       "    </tr>\n",
       "    <tr>\n",
       "      <th>2025</th>\n",
       "      <td>52348351</td>\n",
       "      <td>17305</td>\n",
       "      <td>REBILL</td>\n",
       "      <td>24.95</td>\n",
       "      <td>1</td>\n",
       "      <td>1</td>\n",
       "    </tr>\n",
       "    <tr>\n",
       "      <th>2026</th>\n",
       "      <td>52348352</td>\n",
       "      <td>17305</td>\n",
       "      <td>REBILL</td>\n",
       "      <td>24.95</td>\n",
       "      <td>1</td>\n",
       "      <td>1</td>\n",
       "    </tr>\n",
       "    <tr>\n",
       "      <th>2027</th>\n",
       "      <td>52348353</td>\n",
       "      <td>17305</td>\n",
       "      <td>CHARGEBACK</td>\n",
       "      <td>-24.95</td>\n",
       "      <td>1</td>\n",
       "      <td>-1</td>\n",
       "    </tr>\n",
       "    <tr>\n",
       "      <th>2028</th>\n",
       "      <td>52348354</td>\n",
       "      <td>17305</td>\n",
       "      <td>CHARGEBACK</td>\n",
       "      <td>-24.95</td>\n",
       "      <td>1</td>\n",
       "      <td>-1</td>\n",
       "    </tr>\n",
       "    <tr>\n",
       "      <th>3083</th>\n",
       "      <td>52349409</td>\n",
       "      <td>25114</td>\n",
       "      <td>REBILL</td>\n",
       "      <td>24.95</td>\n",
       "      <td>1</td>\n",
       "      <td>1</td>\n",
       "    </tr>\n",
       "    <tr>\n",
       "      <th>3084</th>\n",
       "      <td>52349410</td>\n",
       "      <td>25114</td>\n",
       "      <td>REBILL</td>\n",
       "      <td>24.95</td>\n",
       "      <td>1</td>\n",
       "      <td>1</td>\n",
       "    </tr>\n",
       "    <tr>\n",
       "      <th>3085</th>\n",
       "      <td>52349411</td>\n",
       "      <td>25114</td>\n",
       "      <td>REFUND</td>\n",
       "      <td>-24.95</td>\n",
       "      <td>1</td>\n",
       "      <td>-1</td>\n",
       "    </tr>\n",
       "    <tr>\n",
       "      <th>3086</th>\n",
       "      <td>52349412</td>\n",
       "      <td>25114</td>\n",
       "      <td>REFUND</td>\n",
       "      <td>-24.95</td>\n",
       "      <td>1</td>\n",
       "      <td>-1</td>\n",
       "    </tr>\n",
       "    <tr>\n",
       "      <th>3548</th>\n",
       "      <td>52349874</td>\n",
       "      <td>29386</td>\n",
       "      <td>REBILL</td>\n",
       "      <td>29.95</td>\n",
       "      <td>1</td>\n",
       "      <td>1</td>\n",
       "    </tr>\n",
       "    <tr>\n",
       "      <th>3549</th>\n",
       "      <td>52349875</td>\n",
       "      <td>29386</td>\n",
       "      <td>CHARGEBACK</td>\n",
       "      <td>-29.95</td>\n",
       "      <td>1</td>\n",
       "      <td>-1</td>\n",
       "    </tr>\n",
       "    <tr>\n",
       "      <th>4366</th>\n",
       "      <td>52350692</td>\n",
       "      <td>35733</td>\n",
       "      <td>REBILL</td>\n",
       "      <td>24.95</td>\n",
       "      <td>1</td>\n",
       "      <td>1</td>\n",
       "    </tr>\n",
       "    <tr>\n",
       "      <th>4367</th>\n",
       "      <td>52350693</td>\n",
       "      <td>35733</td>\n",
       "      <td>CHARGEBACK</td>\n",
       "      <td>-24.95</td>\n",
       "      <td>1</td>\n",
       "      <td>-1</td>\n",
       "    </tr>\n",
       "    <tr>\n",
       "      <th>4377</th>\n",
       "      <td>52350703</td>\n",
       "      <td>35914</td>\n",
       "      <td>REBILL</td>\n",
       "      <td>39.95</td>\n",
       "      <td>1</td>\n",
       "      <td>1</td>\n",
       "    </tr>\n",
       "    <tr>\n",
       "      <th>4378</th>\n",
       "      <td>52350704</td>\n",
       "      <td>35914</td>\n",
       "      <td>REBILL</td>\n",
       "      <td>39.95</td>\n",
       "      <td>1</td>\n",
       "      <td>1</td>\n",
       "    </tr>\n",
       "    <tr>\n",
       "      <th>4379</th>\n",
       "      <td>52350705</td>\n",
       "      <td>35914</td>\n",
       "      <td>REBILL</td>\n",
       "      <td>39.95</td>\n",
       "      <td>1</td>\n",
       "      <td>1</td>\n",
       "    </tr>\n",
       "    <tr>\n",
       "      <th>4380</th>\n",
       "      <td>52350706</td>\n",
       "      <td>35914</td>\n",
       "      <td>REBILL</td>\n",
       "      <td>39.95</td>\n",
       "      <td>1</td>\n",
       "      <td>1</td>\n",
       "    </tr>\n",
       "    <tr>\n",
       "      <th>4381</th>\n",
       "      <td>52350707</td>\n",
       "      <td>35914</td>\n",
       "      <td>CHARGEBACK</td>\n",
       "      <td>-39.95</td>\n",
       "      <td>1</td>\n",
       "      <td>-1</td>\n",
       "    </tr>\n",
       "    <tr>\n",
       "      <th>4382</th>\n",
       "      <td>52350708</td>\n",
       "      <td>35914</td>\n",
       "      <td>CHARGEBACK</td>\n",
       "      <td>-39.95</td>\n",
       "      <td>1</td>\n",
       "      <td>-1</td>\n",
       "    </tr>\n",
       "    <tr>\n",
       "      <th>4383</th>\n",
       "      <td>52350709</td>\n",
       "      <td>35914</td>\n",
       "      <td>CHARGEBACK</td>\n",
       "      <td>-39.95</td>\n",
       "      <td>1</td>\n",
       "      <td>-1</td>\n",
       "    </tr>\n",
       "    <tr>\n",
       "      <th>4384</th>\n",
       "      <td>52350710</td>\n",
       "      <td>35914</td>\n",
       "      <td>CHARGEBACK</td>\n",
       "      <td>-39.95</td>\n",
       "      <td>1</td>\n",
       "      <td>-1</td>\n",
       "    </tr>\n",
       "    <tr>\n",
       "      <th>4475</th>\n",
       "      <td>52350801</td>\n",
       "      <td>36640</td>\n",
       "      <td>REBILL</td>\n",
       "      <td>29.95</td>\n",
       "      <td>1</td>\n",
       "      <td>1</td>\n",
       "    </tr>\n",
       "    <tr>\n",
       "      <th>4476</th>\n",
       "      <td>52350802</td>\n",
       "      <td>36640</td>\n",
       "      <td>REBILL</td>\n",
       "      <td>29.95</td>\n",
       "      <td>1</td>\n",
       "      <td>1</td>\n",
       "    </tr>\n",
       "    <tr>\n",
       "      <th>4477</th>\n",
       "      <td>52350803</td>\n",
       "      <td>36640</td>\n",
       "      <td>REBILL</td>\n",
       "      <td>29.95</td>\n",
       "      <td>1</td>\n",
       "      <td>1</td>\n",
       "    </tr>\n",
       "    <tr>\n",
       "      <th>4478</th>\n",
       "      <td>52350804</td>\n",
       "      <td>36640</td>\n",
       "      <td>REBILL</td>\n",
       "      <td>29.95</td>\n",
       "      <td>1</td>\n",
       "      <td>1</td>\n",
       "    </tr>\n",
       "    <tr>\n",
       "      <th>4479</th>\n",
       "      <td>52350805</td>\n",
       "      <td>36640</td>\n",
       "      <td>REBILL</td>\n",
       "      <td>29.95</td>\n",
       "      <td>1</td>\n",
       "      <td>1</td>\n",
       "    </tr>\n",
       "    <tr>\n",
       "      <th>4480</th>\n",
       "      <td>52350806</td>\n",
       "      <td>36640</td>\n",
       "      <td>REBILL</td>\n",
       "      <td>29.95</td>\n",
       "      <td>1</td>\n",
       "      <td>1</td>\n",
       "    </tr>\n",
       "    <tr>\n",
       "      <th>4481</th>\n",
       "      <td>52350807</td>\n",
       "      <td>36640</td>\n",
       "      <td>REFUND</td>\n",
       "      <td>-29.95</td>\n",
       "      <td>1</td>\n",
       "      <td>-1</td>\n",
       "    </tr>\n",
       "  </tbody>\n",
       "</table>\n",
       "</div>"
      ],
      "text/plain": [
       "      transaction_id  sample_id transaction_type  transaction_amount  \\\n",
       "869         52347195       7338           REBILL               29.95   \n",
       "870         52347196       7338       CHARGEBACK              -29.95   \n",
       "1867        52348193      15909           REBILL               24.95   \n",
       "1868        52348194      15909       CHARGEBACK              -24.95   \n",
       "2024        52348350      17305           REBILL               24.95   \n",
       "2025        52348351      17305           REBILL               24.95   \n",
       "2026        52348352      17305           REBILL               24.95   \n",
       "2027        52348353      17305       CHARGEBACK              -24.95   \n",
       "2028        52348354      17305       CHARGEBACK              -24.95   \n",
       "3083        52349409      25114           REBILL               24.95   \n",
       "3084        52349410      25114           REBILL               24.95   \n",
       "3085        52349411      25114           REFUND              -24.95   \n",
       "3086        52349412      25114           REFUND              -24.95   \n",
       "3548        52349874      29386           REBILL               29.95   \n",
       "3549        52349875      29386       CHARGEBACK              -29.95   \n",
       "4366        52350692      35733           REBILL               24.95   \n",
       "4367        52350693      35733       CHARGEBACK              -24.95   \n",
       "4377        52350703      35914           REBILL               39.95   \n",
       "4378        52350704      35914           REBILL               39.95   \n",
       "4379        52350705      35914           REBILL               39.95   \n",
       "4380        52350706      35914           REBILL               39.95   \n",
       "4381        52350707      35914       CHARGEBACK              -39.95   \n",
       "4382        52350708      35914       CHARGEBACK              -39.95   \n",
       "4383        52350709      35914       CHARGEBACK              -39.95   \n",
       "4384        52350710      35914       CHARGEBACK              -39.95   \n",
       "4475        52350801      36640           REBILL               29.95   \n",
       "4476        52350802      36640           REBILL               29.95   \n",
       "4477        52350803      36640           REBILL               29.95   \n",
       "4478        52350804      36640           REBILL               29.95   \n",
       "4479        52350805      36640           REBILL               29.95   \n",
       "4480        52350806      36640           REBILL               29.95   \n",
       "4481        52350807      36640           REFUND              -29.95   \n",
       "\n",
       "      test_group  types  \n",
       "869            1      1  \n",
       "870            1     -1  \n",
       "1867           1      1  \n",
       "1868           1     -1  \n",
       "2024           1      1  \n",
       "2025           1      1  \n",
       "2026           1      1  \n",
       "2027           1     -1  \n",
       "2028           1     -1  \n",
       "3083           1      1  \n",
       "3084           1      1  \n",
       "3085           1     -1  \n",
       "3086           1     -1  \n",
       "3548           1      1  \n",
       "3549           1     -1  \n",
       "4366           1      1  \n",
       "4367           1     -1  \n",
       "4377           1      1  \n",
       "4378           1      1  \n",
       "4379           1      1  \n",
       "4380           1      1  \n",
       "4381           1     -1  \n",
       "4382           1     -1  \n",
       "4383           1     -1  \n",
       "4384           1     -1  \n",
       "4475           1      1  \n",
       "4476           1      1  \n",
       "4477           1      1  \n",
       "4478           1      1  \n",
       "4479           1      1  \n",
       "4480           1      1  \n",
       "4481           1     -1  "
      ]
     },
     "execution_count": 278,
     "metadata": {},
     "output_type": "execute_result"
    }
   ],
   "source": [
    "t = test_df.groupby(by = ['sample_id', 'types']).count()\n",
    "x = t.index.get_level_values(0)\n",
    "z = x[x.duplicated()].tolist()\n",
    "test_df[test_df['sample_id'].isin(z)].sort_values(['sample_id', 'transaction_id'])\n"
   ]
  },
  {
   "cell_type": "markdown",
   "metadata": {},
   "source": [
    "Assigning the types to 1 and -1 and summing them would not have any sizeable effect on the test group. \n",
    "\n",
    "Running a similar query on the control dataframe will show similar results, if not less.  \n",
    "\n",
    "\n"
   ]
  },
  {
   "cell_type": "markdown",
   "metadata": {
    "collapsed": true
   },
   "source": [
    "## Significance of the Differences in Mean. \n",
    "\n",
    "We will use a ttest given the difference in sample sizes, and approximation to the normal. \n",
    "\n"
   ]
  },
  {
   "cell_type": "code",
   "execution_count": 307,
   "metadata": {},
   "outputs": [],
   "source": [
    "def ttest(mean1,mean2,var1,var2, n1,n2):\n",
    "    s_p = ((n1-1)*var1 +(n2-2)*var2)/(n1+n2-2)\n",
    "    t_stat = (mean1-mean2)/(s_p*np.sqrt((1/n1)+(1/n2)))\n",
    "    return t_stat"
   ]
  },
  {
   "cell_type": "code",
   "execution_count": 323,
   "metadata": {},
   "outputs": [
    {
     "name": "stdout",
     "output_type": "stream",
     "text": [
      "1.0\n"
     ]
    }
   ],
   "source": [
    "test_EV_rebills = test_df.groupby(by ='sample_id').sum()['types'].mean()\n",
    "test_var_rebills = test_df.groupby(by ='sample_id').sum()['types'].std()\n",
    "control_EV_rebills = control_df.groupby(by ='sample_id').sum()['types'].mean()\n",
    "control_var_rebills = test_df.groupby(by ='sample_id').sum()['types'].std()\n",
    "tstat = ttest(test_EV_rebills,control_EV_rebills,test_var_rebills,control_var_rebills,total_test_ids,total_control_ids)\n",
    "df = total_test_ids + total_control_ids -2 \n",
    "\n",
    "p_value = 1 - stats.t.cdf(tstat,df = 50000)\n",
    "print(p_value)"
   ]
  },
  {
   "cell_type": "markdown",
   "metadata": {
    "collapsed": true
   },
   "source": [
    "'We can say that the number of rebills on average are not different from each other'"
   ]
  },
  {
   "cell_type": "code",
   "execution_count": 326,
   "metadata": {},
   "outputs": [
    {
     "name": "stdout",
     "output_type": "stream",
     "text": [
      "Is there a statistical difference in the means of the transaction amounts\n",
      "p-value:  0.618308437988\n",
      "We cannot determine that there is a significant difference between the revenue\n"
     ]
    }
   ],
   "source": [
    "print('Is there a statistical difference in the means of the transaction amounts')\n",
    "\n",
    "tstat = ttest(transac_test_df.mean(),transac_control_df.mean(), transac_test_df.var(),transac_control_df.var(), total_test_ids,total_control_ids)\n",
    "p_val = 1-stats.t.cdf(tstat,df=5000)\n",
    "print('p-value: ',p_val)\n",
    "\n",
    "print('We cannot determine that there is a significant difference between the revenue')"
   ]
  },
  {
   "cell_type": "markdown",
   "metadata": {},
   "source": [
    "On average, the likelihood of a higher chargebacks rates are larger for the test group than the control, however there is also not a statistically significant difference between the control and test group. chargebacks/rebills for users approach 0 on average for the sample sizes observed for the test and control. "
   ]
  },
  {
   "cell_type": "code",
   "execution_count": null,
   "metadata": {
    "collapsed": true
   },
   "outputs": [],
   "source": []
  }
 ],
 "metadata": {
  "kernelspec": {
   "display_name": "Python 3",
   "language": "python",
   "name": "python3"
  },
  "language_info": {
   "codemirror_mode": {
    "name": "ipython",
    "version": 3
   },
   "file_extension": ".py",
   "mimetype": "text/x-python",
   "name": "python",
   "nbconvert_exporter": "python",
   "pygments_lexer": "ipython3",
   "version": "3.6.1"
  }
 },
 "nbformat": 4,
 "nbformat_minor": 2
}
